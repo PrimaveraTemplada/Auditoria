{
	"metadata": {
		"kernelspec": {
			"name": "glue_pyspark",
			"display_name": "Glue PySpark",
			"language": "python"
		},
		"language_info": {
			"name": "Python_Glue_Session",
			"mimetype": "text/x-python",
			"codemirror_mode": {
				"name": "python",
				"version": 3
			},
			"pygments_lexer": "python3",
			"file_extension": ".py"
		}
	},
	"nbformat_minor": 4,
	"nbformat": 4,
	"cells": [
		{
			"cell_type": "markdown",
			"source": "# El_hoy_18_04_23",
			"metadata": {}
		},
		{
			"cell_type": "markdown",
			"source": "#### 0 Import libraries",
			"metadata": {}
		},
		{
			"cell_type": "code",
			"source": "import sys\nfrom awsglue.transforms import *\nfrom awsglue.utils import getResolvedOptions\nfrom pyspark.context import SparkContext\nfrom awsglue.context import GlueContext\nfrom awsglue.job import Job\nfrom awsglue.dynamicframe import DynamicFrame\nfrom pyspark.sql import functions as SqlFuncs\nfrom pyspark.sql.functions import *\nfrom pyspark.sql.functions import col\nfrom pyspark.sql import SparkSession\nfrom pyspark.sql.functions import current_date\n\n\nsc = SparkContext.getOrCreate()\nglueContext = GlueContext(sc)\nspark = glueContext.spark_session\njob = Job(glueContext)",
			"metadata": {
				"trusted": true
			},
			"execution_count": 1,
			"outputs": [
				{
					"name": "stdout",
					"text": "Welcome to the Glue Interactive Sessions Kernel\nFor more information on available magic commands, please type %help in any new cell.\n\nPlease view our Getting Started page to access the most up-to-date information on the Interactive Sessions kernel: https://docs.aws.amazon.com/glue/latest/dg/interactive-sessions.html\nInstalled kernel version: 0.38.1 \nAuthenticating with environment variables and user-defined glue_role_arn: arn:aws:iam::940173853583:role/AWSGluestudio-datalake\nTrying to create a Glue session for the kernel.\nWorker Type: G.1X\nNumber of Workers: 5\nSession ID: 86672604-cd57-4430-a394-5a908aaeb2e5\nJob Type: glueetl\nApplying the following default arguments:\n--glue_kernel_version 0.38.1\n--enable-glue-datacatalog true\nWaiting for session 86672604-cd57-4430-a394-5a908aaeb2e5 to get into ready status...\nSession 86672604-cd57-4430-a394-5a908aaeb2e5 has been created.\n\n",
					"output_type": "stream"
				}
			]
		},
		{
			"cell_type": "markdown",
			"source": "#### 1 Import data",
			"metadata": {}
		},
		{
			"cell_type": "code",
			"source": "liq= (\n    glueContext.create_dynamic_frame.from_catalog(\n        database=\"gg-data-elhoy\",\n        table_name=\"liquidacion\",\n        transformation_ctx=\"liq\",\n    )\n)\n\nnota= (\n    glueContext.create_dynamic_frame.from_catalog(\n        database=\"gg-data-elhoy\",\n        table_name=\"nota\",\n        transformation_ctx=\"nota\",\n    )\n)\n\ndt= (\n    glueContext.create_dynamic_frame.from_catalog(\n        database=\"gg-data-elhoy\",\n        table_name=\"detalle_nota\",\n        transformation_ctx=\"dt\",\n    )\n)\n\ninv= (\n    glueContext.create_dynamic_frame.from_catalog(\n        database=\"gg-data-elhoy\",\n        table_name=\"inventario_gas\",\n        transformation_ctx=\"inv\",\n    )\n)\n\ncarburacion= (\n    glueContext.create_dynamic_frame.from_catalog(\n        database=\"gg-data-elhoy\",\n        table_name=\"carburacion\",\n        transformation_ctx=\"globalnet_carburacion\",\n    )\n)",
			"metadata": {
				"trusted": true
			},
			"execution_count": 2,
			"outputs": [
				{
					"name": "stdout",
					"text": "\n",
					"output_type": "stream"
				}
			]
		},
		{
			"cell_type": "code",
			"source": "dire = glueContext.create_dynamic_frame.from_options(\n    format_options={\"quoteChar\": '\"', \"withHeader\": True, \"separator\": \",\"},\n    connection_type=\"s3\",\n    format=\"csv\",\n    connection_options={\n        \"paths\": [\n            \"s3://globalgas-datalake/datasets/raw/raw/direccion/Direcciones.csv\"\n        ],\n        \"recurse\": True,\n    },\n    transformation_ctx=\"dire\",\n)",
			"metadata": {
				"trusted": true
			},
			"execution_count": 3,
			"outputs": [
				{
					"name": "stdout",
					"text": "\n",
					"output_type": "stream"
				}
			]
		},
		{
			"cell_type": "code",
			"source": "mv= (\n    glueContext.create_dynamic_frame.from_catalog(\n        database=\"gg-data-elhoy\",\n        table_name=\"movimiento_gas_inventario\",\n        transformation_ctx=\"mv\",\n    )\n)",
			"metadata": {
				"trusted": true,
				"tags": []
			},
			"execution_count": 4,
			"outputs": [
				{
					"name": "stdout",
					"text": "\n",
					"output_type": "stream"
				}
			]
		},
		{
			"cell_type": "code",
			"source": "gn3api = (\n    glueContext.create_dynamic_frame.from_catalog(\n        database=\"gg_datalake_db_prod\",\n        table_name=\"globalnet_gn3_api_3\",\n        transformation_ctx=\"gn3api\",\n    )\n)",
			"metadata": {
				"trusted": true,
				"tags": []
			},
			"execution_count": 5,
			"outputs": [
				{
					"name": "stdout",
					"text": "\n",
					"output_type": "stream"
				}
			]
		},
		{
			"cell_type": "code",
			"source": "",
			"metadata": {},
			"execution_count": null,
			"outputs": []
		},
		{
			"cell_type": "code",
			"source": "u = (\n    glueContext.create_dynamic_frame.from_catalog(\n        database=\"gg-data-elhoy\",\n        table_name=\"unidad\",\n        transformation_ctx=\"u\",\n    )\n)",
			"metadata": {
				"trusted": true
			},
			"execution_count": 6,
			"outputs": [
				{
					"name": "stdout",
					"text": "\n",
					"output_type": "stream"
				}
			]
		},
		{
			"cell_type": "code",
			"source": "cm = (\n    glueContext.create_dynamic_frame.from_catalog(\n        database=\"gg-data-elhoy\",\n        table_name=\"concepto_movimiento_gas\",\n        transformation_ctx=\"cm\",\n    )\n)",
			"metadata": {
				"trusted": true
			},
			"execution_count": 7,
			"outputs": [
				{
					"name": "stdout",
					"text": "\n",
					"output_type": "stream"
				}
			]
		},
		{
			"cell_type": "markdown",
			"source": "#### 0.1 Funcion para generar fechas",
			"metadata": {}
		},
		{
			"cell_type": "code",
			"source": "def generate_series(start, stop, interval):\n    \"\"\"\n    :param start  - lower bound, inclusive\n    :param stop   - upper bound, exclusive\n    :interval int - increment interval in seconds\n    \"\"\"\n    spark = SparkSession.builder.getOrCreate()\n    # Determine start and stops in epoch seconds\n    start, stop = spark.createDataFrame(\n        [(start, stop)], (\"start\", \"stop\")\n    ).select(\n        [col(c).cast(\"timestamp\").cast(\"long\") for c in (\"start\", \"stop\")\n    ]).first()\n    # Create range with increments and cast to timestamp\n    return spark.range(start, stop, interval).select(\n        col(\"id\").cast(\"timestamp\").alias(\"value\")\n    )",
			"metadata": {
				"trusted": true
			},
			"execution_count": 8,
			"outputs": [
				{
					"name": "stdout",
					"text": "\n",
					"output_type": "stream"
				}
			]
		},
		{
			"cell_type": "markdown",
			"source": "#### 2 Convert to dataframe",
			"metadata": {}
		},
		{
			"cell_type": "code",
			"source": "inv0 = inv.toDF().select(\"planta\", \"id_planta\",\"fecha_hora\",\"diferencia\",\"traspaso_entrada\", \"traspaso_salida\", \"gas_empleado\", \"inventario_inicial\", \"inventario_final\", \"compras\", \"ventas\",\"existencia_fisica\",\"eliminado_logico\", \"venta_planta\")\n#.distinct()\ninv00 = inv0.filter(inv0.eliminado_logico == \"NO\")\n#Proceso consepto moviniento gas\ncm0 = cm.toDF().drop('fecha_extraccion')\ncm1 = cm0\ncm2 = cm1.select(\"*\").distinct()\n\n#Cambiar a dataframe\nliq00 = liq.toDF()\nn00 = nota.toDF()\nliq0 = liq00.filter(liq00.eliminado_logico == \"NO\")\nn0 = n00.filter(n00.eliminado_logico == \"NO\") \nd0 = dt.toDF()\nu0 = u.toDF()",
			"metadata": {
				"trusted": true
			},
			"execution_count": 22,
			"outputs": [
				{
					"name": "stdout",
					"text": "\n",
					"output_type": "stream"
				}
			]
		},
		{
			"cell_type": "code",
			"source": "dire1 = dire.toDF().select('Direccion','Entidad_Legal', 'planta_datalake')",
			"metadata": {
				"trusted": true
			},
			"execution_count": 23,
			"outputs": [
				{
					"name": "stdout",
					"text": "\n",
					"output_type": "stream"
				}
			]
		},
		{
			"cell_type": "code",
			"source": "liq1 = liq0.withColumn('planta_datalake', concat(lit('Planta'),liq0.planta))",
			"metadata": {
				"trusted": true,
				"tags": []
			},
			"execution_count": 24,
			"outputs": [
				{
					"name": "stdout",
					"text": "\n",
					"output_type": "stream"
				}
			]
		},
		{
			"cell_type": "markdown",
			"source": "### 3 Movimiento gas inventario",
			"metadata": {}
		},
		{
			"cell_type": "code",
			"source": "# Proceso movimiento gas\nmv0 = mv.toDF()\nmv1 = mv0.filter(mv0.eliminado_logico == 'NO')\nmv2 = mv1.withColumnRenamed(\"id_concepto_movimiento_gas\",\"id_concepto_movimiento_gas1\")\n#.withColumnRenamed(\"planta_datalake\", \"planta_datalake1\")\nmv2 = mv2.withColumn('planta_datalake1', concat( lit('Planta'),mv2.planta)).withColumnRenamed(\"id_planta\", \"id_planta1\")",
			"metadata": {
				"trusted": true
			},
			"execution_count": 25,
			"outputs": [
				{
					"name": "stdout",
					"text": "\n",
					"output_type": "stream"
				}
			]
		},
		{
			"cell_type": "code",
			"source": "#join\ncm3 = cm2.filter(cm2.tipo_inventario == \"OTRAS_SALIDAS\").select('*').distinct()\ncm3 = cm3.withColumn('planta_datalake', concat(lit('Planta'),cm3.planta))",
			"metadata": {
				"trusted": true,
				"tags": []
			},
			"execution_count": 26,
			"outputs": [
				{
					"name": "stdout",
					"text": "\n",
					"output_type": "stream"
				}
			]
		},
		{
			"cell_type": "code",
			"source": "\ncmga = cm3.join(mv2, (cm3.id_concepto_movimiento_gas==mv2.id_concepto_movimiento_gas1) & (cm3.id_planta == mv2.id_planta1), \"inner\")\n#Agrupacion",
			"metadata": {
				"trusted": true
			},
			"execution_count": 27,
			"outputs": [
				{
					"name": "stdout",
					"text": "\n",
					"output_type": "stream"
				}
			]
		},
		{
			"cell_type": "code",
			"source": "cmga = cmga.select('id_liquidacion',coalesce(cmga['planta_datalake'],cmga['planta_datalake1']),'kilos', 'tipo_inventario').withColumnRenamed( 'coalesce(planta_datalake, planta_datalake1)', 'planta_datalake')\n#.withColumnRenamed( 'kilos', 'kilos_donativo')",
			"metadata": {
				"trusted": true,
				"tags": []
			},
			"execution_count": 28,
			"outputs": [
				{
					"name": "stdout",
					"text": "\n",
					"output_type": "stream"
				}
			]
		},
		{
			"cell_type": "code",
			"source": "cmg00 = cmga.fillna(0)\ncmg01 = cmg00.groupBy(\"id_liquidacion\", \"planta_datalake\").sum(\"kilos\").withColumnRenamed(\"sum(kilos)\",\"kilos_donativo\")\n\ncmg02 = cmg01",
			"metadata": {
				"trusted": true,
				"tags": []
			},
			"execution_count": 29,
			"outputs": [
				{
					"name": "stdout",
					"text": "\n",
					"output_type": "stream"
				}
			]
		},
		{
			"cell_type": "code",
			"source": "#rename id_liquidacion, id_nota, id_unidad\nn1 = n0.withColumnRenamed(\"id_liquidacion\", \"id_liquidacion1\").withColumnRenamed(\"id_planta\", \"id_planta1\").drop('planta')\n#.withColumn('planta_datalake1',concat(lit('Planta'), n0.planta) ).withColumnRenamed(\"id_planta\", \"id_planta1\")\n#.withColumnRenamed(\"planta_datalake\", \"planta_datalake1\")\n\nd1 = d0.withColumnRenamed(\"id_nota\", \"id_nota1\").withColumnRenamed(\"id_planta\", \"id_planta1\").drop('planta')\n#.withColumn(\"planta_datalake1\", concat(lit('Planta'), d0.planta))\n#.withColumnRenamed(\"planta_datalake\", \"planta_datalake1\")\n\nu1 = u0.withColumnRenamed(\"id_unidad\",\"id_unidad1\").withColumnRenamed(\"id_planta\", \"id_planta1\").drop('planta')\n#.withColumnRenamed(\"planta_datalake\",\"planta_datalake1\")\n\ncmg1 = cmg02.withColumnRenamed(\"id_liquidacion\", \"id_liquidacion1\").withColumnRenamed(\"id_planta\", \"id_planta1\").drop('planta')\n#.withColumnRenamed(\"planta_datalake\", \"planta_datalake1\").withColumnRenamed(\"id_planta\", \"id_planta1\")",
			"metadata": {
				"trusted": true,
				"tags": []
			},
			"execution_count": 30,
			"outputs": [
				{
					"name": "stdout",
					"text": "\n",
					"output_type": "stream"
				}
			]
		},
		{
			"cell_type": "markdown",
			"source": "### 3.01 ver como vienen los donativos",
			"metadata": {}
		},
		{
			"cell_type": "markdown",
			"source": "#### 3.1 VALE",
			"metadata": {}
		},
		{
			"cell_type": "code",
			"source": "cm3 = cm2.filter(cm2.tipo_inventario == \"GAS_EMPLEADO\")\ncm3 = cm3.withColumn('planta_datalake', concat(lit('Planta'),cm3.planta)).drop('empresa', 'planta')\ncmga2 = cm3.join(mv2, (cm3.id_concepto_movimiento_gas==mv2.id_concepto_movimiento_gas1) & (cm3.planta_datalake == mv2.planta_datalake1), \"inner\")\n#Agrupacion\ncmga3 = cmga2.fillna(0)\n#cmga2.fillna(0)\ncmga3 = cmga3.select(coalesce(cmga3[\"planta_datalake\"],cmga3[\"planta_datalake1\"]), 'id_concepto_movimiento_gas', 'tipo_inventario', 'nombre', 'id_planta','empresa', 'planta', 'eliminado_logico', 'id_concepto_movimiento_gas1', 'id_liquidacion', 'kilos', 'fecha_movimiento', 'diferencia', 'id_planta1', 'fecha_extraccion').withColumnRenamed(\"coalesce(planta_datalake, planta_datalake1)\", \"planta_datalake\")",
			"metadata": {
				"trusted": true
			},
			"execution_count": 38,
			"outputs": [
				{
					"name": "stdout",
					"text": "\n",
					"output_type": "stream"
				}
			]
		},
		{
			"cell_type": "code",
			"source": "#cmga3.filter(cmga3.planta_datalake == 'PlantaGuzman').filter(cmga3.fecha_movimiento.between('2023-08-22', '2023-08-22 23:59:59')).select('eliminado_logico', 'kilos', 'id_concepto_movimiento_gas').show()",
			"metadata": {
				"trusted": true,
				"tags": []
			},
			"execution_count": 39,
			"outputs": [
				{
					"name": "stdout",
					"text": "+----------------+-----+--------------------------+\n|eliminado_logico|kilos|id_concepto_movimiento_gas|\n+----------------+-----+--------------------------+\n|              NO|150.0|                        15|\n+----------------+-----+--------------------------+\n",
					"output_type": "stream"
				}
			]
		},
		{
			"cell_type": "code",
			"source": "#cmga3.select(coalesce(cmga3[\"planta_datalake\"],cmga3[\"planta_datalake1\"]), 'id_concepto_movimiento_gas', 'tipo_inventario', 'nombre', 'id_planta','empresa', 'planta', 'eliminado_logico', 'id_concepto_movimiento_gas1', 'id_liquidacion', 'kilos', 'fecha_movimiento', 'diferencia', 'id_planta1', 'fecha_extraccion').withColumnRenamed(\"coalesce(planta_datalake, planta_datalake1)\", \"planta_datalake1\")",
			"metadata": {
				"trusted": true,
				"tags": []
			},
			"execution_count": 6,
			"outputs": []
		},
		{
			"cell_type": "code",
			"source": "#cmga4= (cmga3.withColumn(\"fecha_hora_mx\",  from_utc_timestamp(cmga3.fecha_movimiento,\"GMT-5\")))\n#when(inv00.fecha_hora <='2023-04-08',).otherwise(from_utc_timestamp(inv00.fecha_hora, ))))  \"America/Mexico_City\"\ncmga5 = cmga3.withColumn(\"fecha_movimiento_day\", to_date(col(\"fecha_movimiento\")))\ncmga6 = cmga5.groupBy( \"planta_datalake\", 'fecha_movimiento_day').sum(\"kilos\").withColumnRenamed(\"sum(kilos)\",\"vale\").withColumnRenamed(\"planta_datalake\",\"planta_datalake1\")",
			"metadata": {
				"trusted": true
			},
			"execution_count": 19,
			"outputs": [
				{
					"name": "stdout",
					"text": "\n",
					"output_type": "stream"
				}
			]
		},
		{
			"cell_type": "code",
			"source": "#cmga6.filter(cmga6.planta_datalake1 == 'PlantaPlantaFlogas').select('fecha_movimiento_day',  'planta_datalake1','vale').show()",
			"metadata": {
				"trusted": true,
				"tags": []
			},
			"execution_count": 7,
			"outputs": []
		},
		{
			"cell_type": "code",
			"source": "cmga5.columns",
			"metadata": {
				"trusted": true,
				"tags": []
			},
			"execution_count": 20,
			"outputs": [
				{
					"name": "stdout",
					"text": "['planta_datalake', 'id_concepto_movimiento_gas', 'tipo_inventario', 'nombre', 'id_planta', 'empresa', 'planta', 'eliminado_logico', 'id_concepto_movimiento_gas1', 'id_liquidacion', 'kilos', 'fecha_movimiento', 'diferencia', 'id_planta1', 'fecha_extraccion', 'fecha_movimiento_day']\n",
					"output_type": "stream"
				}
			]
		},
		{
			"cell_type": "code",
			"source": "cmga5",
			"metadata": {
				"trusted": true,
				"tags": []
			},
			"execution_count": 21,
			"outputs": [
				{
					"name": "stdout",
					"text": "DataFrame[planta_datalake: string, id_concepto_movimiento_gas: bigint, tipo_inventario: string, nombre: string, id_planta: bigint, empresa: string, planta: string, eliminado_logico: string, id_concepto_movimiento_gas1: bigint, id_liquidacion: bigint, kilos: double, fecha_movimiento: timestamp, diferencia: bigint, id_planta1: bigint, fecha_extraccion: timestamp, fecha_movimiento_day: date]\n",
					"output_type": "stream"
				}
			]
		},
		{
			"cell_type": "markdown",
			"source": "#### 4 Liq-nota-detalle_nota- unidad-movimiento gas",
			"metadata": {}
		},
		{
			"cell_type": "code",
			"source": "#join liq-nota\nln = liq1.join(n1, (liq1.id_liquidacion == n1.id_liquidacion1) & (liq1.id_planta == n1.id_planta1), \"fullouter\" )\nln1 = ln.select(\"planta\",'id_planta', \"id_liquidacion\", \"fecha_liquidacion\",\"id_nota\", \"id_unidad\")\n\n\n##join liq-nota-detallenota\nld = ln1.join(d1, (ln1.id_nota == d1.id_nota1) & (ln1.id_planta == d1.id_planta1), \"fullouter\" )\nld1 = ld.select(\"planta\",'id_planta', \"id_liquidacion\", \"fecha_liquidacion\",\"id_nota\", \"id_unidad\", \"kilos\")\n\n##Join liq-nota-detallenota-unidad\nlu = ld1.join(u1, (ld1.id_unidad == u1.id_unidad1) & (ld1.id_planta == u1.id_planta1), \"fullouter\")\nlu1 = lu.select(\"planta\",'id_planta' ,\"id_liquidacion\", \"fecha_liquidacion\",\"id_nota\", \"id_unidad\", \"kilos\", \"tipo_unidad\")\n### agrupacion lu\nlu2 = lu1.fillna(0)\nlu3 = lu1.groupBy( \"planta\", \"id_liquidacion\", \"fecha_liquidacion\", \"id_unidad\",\"tipo_unidad\").sum(\"kilos\").withColumnRenamed(\"sum(kilos)\", \"kilos\")\nlu3 = lu3.withColumn('planta_datalake',concat(lit('Planta'), lu3.planta) )",
			"metadata": {
				"trusted": true
			},
			"execution_count": 22,
			"outputs": [
				{
					"name": "stdout",
					"text": "\n",
					"output_type": "stream"
				}
			]
		},
		{
			"cell_type": "code",
			"source": "#lu3.filter(lu3.planta =='PlantaFlogas').show()",
			"metadata": {
				"trusted": true,
				"tags": []
			},
			"execution_count": 8,
			"outputs": []
		},
		{
			"cell_type": "code",
			"source": "# liq.. nota... kilos_donativo\ncmg03 = cmg02.withColumnRenamed(\"id_liquidacion\",\"id_liquidacion1\").withColumnRenamed(\"planta_datalake\",\"planta_datalake1\")\nlc2 = lu3.join(cmg03, (lu3.id_liquidacion == cmg03.id_liquidacion1) & (lu3.planta_datalake == cmg03.planta_datalake1), \"fullouter\")\nlc3 = lc2.select(\"planta_datalake\", \"id_liquidacion\",'id_liquidacion1', \"fecha_liquidacion\", \"id_unidad\", \"kilos\", \"tipo_unidad\", \"kilos_donativo\")",
			"metadata": {
				"trusted": true
			},
			"execution_count": 23,
			"outputs": [
				{
					"name": "stdout",
					"text": "\n",
					"output_type": "stream"
				}
			]
		},
		{
			"cell_type": "code",
			"source": "#cmg03.columns",
			"metadata": {
				"trusted": true,
				"tags": []
			},
			"execution_count": 9,
			"outputs": []
		},
		{
			"cell_type": "code",
			"source": "#lc3.filter(lc3.planta_datalake =='PlantaPlantaFlogas').show()",
			"metadata": {
				"trusted": true,
				"tags": []
			},
			"execution_count": 10,
			"outputs": []
		},
		{
			"cell_type": "code",
			"source": "#lc3.filter(lc3.planta_datalake == 'PlantaTepic').filter(lc3.fecha_liquidacion >= '2023-01-03').filter(lc3.fecha_liquidacion <'2023-01-04').filter(lc3.kilos_donativo.isNotNull()).orderBy('id_liquidacion').show()\n#.filter(lc3.fecha_liquidacion >= '2023-01-01').filter(lc3.fecha_liquidacion <'2023-01-02')",
			"metadata": {
				"trusted": true,
				"tags": []
			},
			"execution_count": 11,
			"outputs": []
		},
		{
			"cell_type": "markdown",
			"source": "##### 4.1 Cambio de fecha diaria... liq-nota-detallenota-unidad-mov_gas",
			"metadata": {}
		},
		{
			"cell_type": "code",
			"source": "lc33 = lc3.withColumn(\"fecha_liquidacion_day\",to_date(col(\"fecha_liquidacion\")))\nlc4 = lc33.select(\"*\")\nlc5 = lc4.drop(\"fecha_liquidacion\")\nlc6 = lc5.drop(\"fecha_liquidacion_mx\")\n\nlc7 = lc6.groupBy(\"id_unidad\", \"tipo_unidad\", \"planta_datalake\", \"fecha_liquidacion_day\" ).sum(\"kilos_donativo\", \"kilos\")\nlc8 = lc7.withColumnRenamed(\"sum(kilos)\",\"kilos\").withColumnRenamed(\"sum(kilos_donativo)\",\"kilos_donativo\")",
			"metadata": {
				"trusted": true
			},
			"execution_count": 24,
			"outputs": [
				{
					"name": "stdout",
					"text": "\n",
					"output_type": "stream"
				}
			]
		},
		{
			"cell_type": "code",
			"source": "#lc8.columns",
			"metadata": {
				"trusted": true,
				"tags": []
			},
			"execution_count": 12,
			"outputs": []
		},
		{
			"cell_type": "code",
			"source": "#lc8.filter(lc8.planta_datalake =='PlantaPlantaFlogas').show()",
			"metadata": {
				"trusted": true,
				"tags": []
			},
			"execution_count": 13,
			"outputs": []
		},
		{
			"cell_type": "code",
			"source": "car1 = carburacion.toDF()",
			"metadata": {
				"trusted": true,
				"tags": []
			},
			"execution_count": 25,
			"outputs": [
				{
					"name": "stdout",
					"text": "\n",
					"output_type": "stream"
				}
			]
		},
		{
			"cell_type": "code",
			"source": "car2 = car1.withColumn(\"planta_datalake\", concat(lit('Planta'), car1.planta))",
			"metadata": {
				"trusted": true,
				"tags": []
			},
			"execution_count": 26,
			"outputs": [
				{
					"name": "stdout",
					"text": "\n",
					"output_type": "stream"
				}
			]
		},
		{
			"cell_type": "markdown",
			"source": "#### 5 Carburación",
			"metadata": {}
		},
		{
			"cell_type": "code",
			"source": "#carburacion.toDF()\ncar2 = car2.select(\"fecha_carburacion\", \"carburacion\", \"planta_datalake\", \"id_unidad\", \"eliminado_logico\")\ncar2 = car2.filter(car2.eliminado_logico == 'NO')\n#car3 = (car2.withColumn(\"fecha_car_mx\",  from_utc_timestamp(car2.fecha_carburacion, \"GMT-5\")))\n#America/Mexico_City\n#when(car2.fecha_carburacion <='2023-04-08',).otherwise(from_utc_timestamp(car2.fecha_carburacion, \"GMT-5\"))))",
			"metadata": {
				"trusted": true
			},
			"execution_count": 27,
			"outputs": [
				{
					"name": "stdout",
					"text": "\n",
					"output_type": "stream"
				}
			]
		},
		{
			"cell_type": "code",
			"source": "car4 = car2.withColumn(\"fecha_car_day\",to_date(col(\"fecha_carburacion\")))\ncar5 = (car4.withColumn(\"cons_propio\", round(car4.carburacion * .54, 2)))\ncar6 = car5.select(\"cons_propio\", \"planta_datalake\", \"id_unidad\", \"fecha_car_day\")\ncar7 = car6.groupBy(\"planta_datalake\", \"id_unidad\", \"fecha_car_day\").sum(\"cons_propio\")\ncar8 = car7.withColumnRenamed(\"sum(cons_propio)\",\"cons_propio\")\ncar9 = car8.withColumnRenamed(\"planta_datalake\", \"planta_datalake1\").withColumnRenamed(\"id_unidad\",\"id_unidad1\")",
			"metadata": {
				"trusted": true
			},
			"execution_count": 28,
			"outputs": [
				{
					"name": "stdout",
					"text": "\n",
					"output_type": "stream"
				}
			]
		},
		{
			"cell_type": "markdown",
			"source": "### 5.01 guardar para ver el desgloce por mes",
			"metadata": {}
		},
		{
			"cell_type": "markdown",
			"source": "##### 5.1 liq-nota--carburacion",
			"metadata": {}
		},
		{
			"cell_type": "code",
			"source": "lca = lc8.join(car9, (lc8.planta_datalake == car9.planta_datalake1) & (lc8.id_unidad == car9.id_unidad1) & (lc8.fecha_liquidacion_day == car9.fecha_car_day), \"fullouter\")\nlca1 = lca.select(coalesce(lca[\"planta_datalake\"],lca[\"planta_datalake1\"]), \"fecha_car_day\",\"fecha_liquidacion_day\",coalesce(lca[\"id_unidad\"],lca[\"id_unidad1\"]), \"kilos\", \"kilos_donativo\", \"cons_propio\", \"tipo_unidad\" )\nlca2 = lca1.withColumnRenamed(\"coalesce(planta_datalake, planta_datalake1)\", \"planta_datalake1\").withColumnRenamed(\"fecha_liquidacion_day\",\"fecha_liquidacion\").withColumnRenamed(\"coalesce(id_unidad, id_unidad1)\", \"id_unidad\")",
			"metadata": {
				"trusted": true
			},
			"execution_count": 29,
			"outputs": [
				{
					"name": "stdout",
					"text": "\n",
					"output_type": "stream"
				}
			]
		},
		{
			"cell_type": "markdown",
			"source": "## ",
			"metadata": {}
		},
		{
			"cell_type": "code",
			"source": "#lca2.filter(lca2.planta_datalake1 =='PlantaPlantaFlogas').show\ninv00.columns",
			"metadata": {
				"trusted": true,
				"tags": []
			},
			"execution_count": 30,
			"outputs": [
				{
					"name": "stdout",
					"text": "['planta', 'id_planta', 'fecha_hora', 'diferencia', 'traspaso_entrada', 'traspaso_salida', 'gas_empleado', 'inventario_inicial', 'inventario_final', 'compras', 'ventas', 'existencia_fisica', 'eliminado_logico', 'venta_planta']\n",
					"output_type": "stream"
				}
			]
		},
		{
			"cell_type": "markdown",
			"source": "### AQUI",
			"metadata": {}
		},
		{
			"cell_type": "markdown",
			"source": "#### 6 Inventario",
			"metadata": {}
		},
		{
			"cell_type": "code",
			"source": "inv1= (inv00.withColumn(\"planta_datalake\",  concat(lit('Planta'), inv00.planta)))\n#when(inv00.fecha_hora <='2023-04-08',).otherwise(from_utc_timestamp(inv00.fecha_hora, ))))  \"America/Mexico_City\"\ninv2 = inv1.withColumn(\"fecha_day\", to_date(col(\"fecha_hora\")))\ninv3 = inv2.groupBy(\"planta_datalake\", \"fecha_day\").sum(\"traspaso_entrada\", \"traspaso_salida\", \"gas_empleado\", \"inventario_inicial\", \"inventario_final\", \"compras\", \"existencia_fisica\", \"ventas\", \"venta_planta\", \"diferencia\")\ninv4 = inv3.withColumnRenamed(\"sum(traspaso_entrada)\", \"traspaso_entrada\").withColumnRenamed(\"sum(traspaso_salida)\", \"traspaso_salida\").withColumnRenamed(\"sum(gas_empleado)\", \"gas_empleado\").withColumnRenamed(\"sum(inventario_inicial)\", \"inventario_inicial\").withColumnRenamed(\"sum(inventario_final)\", \"inventario_final\").withColumnRenamed(\"sum(compras)\", \"compras\").withColumnRenamed(\"sum(existencia_fisica)\", \"existencia_fisica\").withColumnRenamed(\"fecha_day\", \"fecha_liquidacion1\").withColumnRenamed(\"sum(ventas)\", \"ventas\").withColumnRenamed(\"sum(venta_planta)\", \"venta_planta\").withColumnRenamed(\"sum(diferencia)\", \"diferencia\")",
			"metadata": {
				"trusted": true
			},
			"execution_count": 37,
			"outputs": [
				{
					"name": "stdout",
					"text": "\n",
					"output_type": "stream"
				}
			]
		},
		{
			"cell_type": "code",
			"source": "inv4.filter(inv4.planta_datalake == 'PlantaCardenas').filter(inv4.fecha_liquidacion1.between('2023-07-01', '2023-07-31')).groupBy('planta_datalake').sum('diferencia').show()",
			"metadata": {
				"trusted": true,
				"tags": []
			},
			"execution_count": 38,
			"outputs": [
				{
					"name": "stdout",
					"text": "+---------------+------------------+\n|planta_datalake|   sum(diferencia)|\n+---------------+------------------+\n| PlantaCardenas|-468.6299999999999|\n+---------------+------------------+\n",
					"output_type": "stream"
				}
			]
		},
		{
			"cell_type": "code",
			"source": "#lca2.filter(lca2.planta_datalake1 =='PlantaPlantaFlogas').show()",
			"metadata": {
				"trusted": true
			},
			"execution_count": 14,
			"outputs": []
		},
		{
			"cell_type": "markdown",
			"source": "##### 6.1 Liq-nota-...inventario",
			"metadata": {}
		},
		{
			"cell_type": "markdown",
			"source": "Este join es simplemente para el caso cuando no se pudo hacer la migracion o no hay datos en la tabla de nota, se hace el uso de la columna ventas en la tabla inventario.\nNo tiene caso pivotear todas las cantidades que provienen de la tabla de compras debido a que el costo de la memoria es elevado (tardado y costoso a nivel recursos de la nube)",
			"metadata": {}
		},
		{
			"cell_type": "code",
			"source": "lca3 = lca2.join(inv4, (lca2.planta_datalake1 == inv4.planta_datalake) & (lca2.fecha_liquidacion== inv4.fecha_liquidacion1), \"fullouter\")\nlca11 = lca3.select(coalesce(lca3[\"planta_datalake\"],lca3[\"planta_datalake1\"]), coalesce(lca3[\"fecha_liquidacion\"],lca3[\"fecha_liquidacion1\"]), 'id_unidad', 'kilos', 'kilos_donativo', 'cons_propio', 'tipo_unidad', 'traspaso_entrada', 'inventario_inicial', 'inventario_final', 'compras', 'existencia_fisica', 'ventas', 'venta_planta', \"diferencia\" )\nlca22 = lca11.withColumnRenamed(\"coalesce(planta_datalake, planta_datalake1)\", \"planta_datalake\").withColumnRenamed(\"coalesce(fecha_liquidacion, fecha_liquidacion1)\",\"fecha_liquidacion\")\nlca23 = lca22.withColumn('kilos2', when(lca2.kilos ==0, lca22.ventas).otherwise(lca22.kilos)).drop('kilos').withColumnRenamed('kilos2', 'kilos')",
			"metadata": {
				"trusted": true
			},
			"execution_count": 32,
			"outputs": [
				{
					"name": "stdout",
					"text": "\n",
					"output_type": "stream"
				}
			]
		},
		{
			"cell_type": "code",
			"source": "#lca23.filter(lca23.planta_datalake =='PlantaPlantaFlogas').show()\n#lca2.columns",
			"metadata": {
				"trusted": true,
				"tags": []
			},
			"execution_count": 57,
			"outputs": [
				{
					"name": "stdout",
					"text": "['planta_datalake', 'fecha_liquidacion', 'id_unidad', 'kilos_donativo', 'cons_propio', 'tipo_unidad', 'traspaso_entrada', 'inventario_inicial', 'inventario_final', 'compras', 'existencia_fisica', 'ventas', 'venta_planta', 'diferencia', 'kilos']\n",
					"output_type": "stream"
				}
			]
		},
		{
			"cell_type": "markdown",
			"source": "#### 8  kilos donativo",
			"metadata": {}
		},
		{
			"cell_type": "code",
			"source": "kilos_d = lca23.select(\"tipo_unidad\",  \"planta_datalake\", \"fecha_liquidacion\", \"kilos_donativo\")\nkilos_dp = kilos_d.groupBy(\"planta_datalake\", \"fecha_liquidacion\").sum(\"kilos_donativo\")\nkilos_dp = kilos_dp.fillna(0)\nkilos_dp2 = kilos_dp.withColumnRenamed('sum(kilos_donativo)', 'kilos_donativo') \n#kilos_dp1 = kilos_dp.withColumn(\"kilos_donativo\", kilos_dp.null+ kilos_dp.ANDEN + kilos_dp.ESTACION +kilos_dp.ESTACIONARIO + kilos_dp.MAYORISTA_E + kilos_dp.MAYORISTA_P +kilos_dp.PORTATIL + kilos_dp.UTILITARIO)\n#kilos_dp2 = kilos_dp1.select( \"planta_datalake\", \"fecha_liquidacion\", \"kilos_donativo\")",
			"metadata": {
				"trusted": true
			},
			"execution_count": 34,
			"outputs": [
				{
					"name": "stdout",
					"text": "\n",
					"output_type": "stream"
				}
			]
		},
		{
			"cell_type": "markdown",
			"source": "#### 9 consumo propio",
			"metadata": {}
		},
		{
			"cell_type": "code",
			"source": "kilos_cp1 = car8.drop('id_unidad').withColumnRenamed('fecha_car_day', 'fecha_liquidacion')\nkilos_cp2 = kilos_cp1.groupBy(\"planta_datalake\", \"fecha_liquidacion\").sum(\"cons_propio\").withColumnRenamed('sum(cons_propio)', 'cons_propio')",
			"metadata": {
				"trusted": true
			},
			"execution_count": 35,
			"outputs": [
				{
					"name": "stdout",
					"text": "\n",
					"output_type": "stream"
				}
			]
		},
		{
			"cell_type": "markdown",
			"source": "#### 7 Pivot kilos, tipo de venta",
			"metadata": {}
		},
		{
			"cell_type": "code",
			"source": "kilos = lca23.select(\"tipo_unidad\",  \"planta_datalake\", \"fecha_liquidacion\", \"kilos\")\nkilos = kilos.fillna(0)\nkilosp = kilos.groupBy(\"planta_datalake\", \"fecha_liquidacion\").pivot(\"tipo_unidad\").sum(\"kilos\")\nkilosp = kilosp.fillna(0)\nkilosp1 = kilosp.withColumn(\"kilos\", kilosp.null+ kilosp.ANDEN +kilosp.ESTACION+kilosp.ESTACIONARIO + kilosp.MAYORISTA_E + kilosp.MAYORISTA_P +kilosp.PORTATIL + kilosp.UTILITARIO)",
			"metadata": {
				"trusted": true
			},
			"execution_count": 36,
			"outputs": [
				{
					"name": "stdout",
					"text": "\n",
					"output_type": "stream"
				}
			]
		},
		{
			"cell_type": "code",
			"source": "#kilosp1.filter(kilosp1.planta_datalake =='PlantaPlantaFlogas').show() ",
			"metadata": {
				"trusted": true,
				"tags": []
			},
			"execution_count": 15,
			"outputs": []
		},
		{
			"cell_type": "code",
			"source": "",
			"metadata": {},
			"execution_count": null,
			"outputs": []
		},
		{
			"cell_type": "markdown",
			"source": "#### 10 Union de los pivots",
			"metadata": {}
		},
		{
			"cell_type": "code",
			"source": "#kilosp1, kilos_dp2, kilos_cp2\nkilos_dp3 =  kilos_dp2.withColumnRenamed(\"planta_datalake\",\"planta_datalake1\").withColumnRenamed(\"fecha_liquidacion\",\"fecha_liquidacion1\")\nk1 = kilosp1.join(kilos_dp3, (kilosp1.planta_datalake ==  kilos_dp3.planta_datalake1) & (kilosp1.fecha_liquidacion ==  kilos_dp3.fecha_liquidacion1), \"inner\")\nk2 = k1.drop(\"planta_datalake1\").drop(\"fecha_liquidacion1\")\nkilos_cp3 =  kilos_cp2.withColumnRenamed(\"planta_datalake\",\"planta_datalake1\").withColumnRenamed(\"fecha_liquidacion\",\"fecha_liquidacion1\")\nk3 = k2.join(kilos_cp3, (k2.planta_datalake ==  kilos_cp3.planta_datalake1) & (k2.fecha_liquidacion ==  kilos_cp3.fecha_liquidacion1), \"inner\")\nk4 = k3.drop(\"planta_datalake1\").drop(\"fecha_liquidacion1\")",
			"metadata": {
				"trusted": true
			},
			"execution_count": 37,
			"outputs": [
				{
					"name": "stdout",
					"text": "\n",
					"output_type": "stream"
				}
			]
		},
		{
			"cell_type": "markdown",
			"source": "#### 11 Retiros",
			"metadata": {}
		},
		{
			"cell_type": "code",
			"source": "gn30 = gn3api.toDF().select(\"date\", \"planta_datalake\", \"totalquantity\", \"unitType\")\ngn31 =  gn30.withColumn(\"fecha_day\", to_date(col(\"date\")))\ngn32 = gn31.groupBy(\"fecha_day\", \"planta_datalake\").pivot(\"unitType\").sum(\"totalquantity\").withColumnRenamed(\"sum(totalquantity)\", \"totalquantity\").withColumnRenamed(\"fecha_day\", \"fecha_liquidacion2\").withColumnRenamed(\"planta_datalake\",\"planta_datalake1\")\ngn32 = gn32.withColumn('planta_datalake2', when(gn32.planta_datalake1 == 'PlantaFlogas', 'PlantaPlantaFlogas').otherwise(gn32.planta_datalake1)).drop('planta_datalake1').withColumnRenamed('planta_datalake2', 'planta_datalake1')",
			"metadata": {
				"trusted": true
			},
			"execution_count": 38,
			"outputs": [
				{
					"name": "stdout",
					"text": "\n",
					"output_type": "stream"
				}
			]
		},
		{
			"cell_type": "code",
			"source": "#gn32.filter(gn32.planta_datalake1 =='PlantaFlogas').show()\n#gn32.show()",
			"metadata": {
				"trusted": true,
				"tags": []
			},
			"execution_count": 16,
			"outputs": []
		},
		{
			"cell_type": "code",
			"source": "#gn32.filter(gn32.planta_datalake1 =='PlantaPlantaFlogas').show()\ngn32 = gn32.withColumnRenamed(\"PORTATIL\", \"PORTATIL_e\").withColumnRenamed(\"ESTACION\", \"ESTACION_e\").withColumnRenamed(\"ESTACIONARIO\", \"ESTACIONARIO_e\").withColumnRenamed(\"MAYORISTA_E\", \"MAYORISTA_E_e\").withColumnRenamed(\"ANDEN\", \"ANDEN_e\").withColumnRenamed(\"MAYORISTA_P\", \"MAYORISTA_P_e\").fillna(0)\ngn32 = gn32.withColumn('totalquantity',  gn32.ANDEN_e +gn32.ESTACION_e+gn32.ESTACIONARIO_e + gn32.MAYORISTA_E_e + gn32.MAYORISTA_P_e+ gn32.PORTATIL_e)",
			"metadata": {
				"trusted": true,
				"tags": []
			},
			"execution_count": 39,
			"outputs": [
				{
					"name": "stdout",
					"text": "\n",
					"output_type": "stream"
				}
			]
		},
		{
			"cell_type": "code",
			"source": "#gn31.filter(gn31.planta_datalake == 'PlantaTepic').filter(gn31.fecha_day == '2023-04-14').groupBy('fecha_day').sum('totalquantity').show()",
			"metadata": {
				"trusted": true,
				"tags": []
			},
			"execution_count": 17,
			"outputs": []
		},
		{
			"cell_type": "code",
			"source": "#gn32.filter(gn32.planta_datalake1 == 'PlantaTepic').filter(gn32.fecha_liquidacion2 == '2023-04-14').show()\n#gn32.columns",
			"metadata": {
				"trusted": true,
				"tags": []
			},
			"execution_count": 18,
			"outputs": []
		},
		{
			"cell_type": "code",
			"source": " ",
			"metadata": {},
			"execution_count": null,
			"outputs": []
		},
		{
			"cell_type": "markdown",
			"source": "##### 11.1 Retiros  e inventario",
			"metadata": {}
		},
		{
			"cell_type": "code",
			"source": "gi = inv4.join(gn32, (inv4.planta_datalake == gn32.planta_datalake1 ) & (inv4.fecha_liquidacion1 == gn32.fecha_liquidacion2), \"fullouter\")\ngi2 = gi.select(coalesce(gi['planta_datalake'], gi['planta_datalake1']), coalesce(gi['fecha_liquidacion1'],gi['fecha_liquidacion2']), 'traspaso_entrada', 'traspaso_salida', 'gas_empleado', 'inventario_inicial', 'inventario_final', 'compras','diferencia', 'existencia_fisica','venta_planta','ANDEN_e', 'ESTACION_e', 'ESTACIONARIO_e', 'MAYORISTA_E_e', 'MAYORISTA_P_e', 'PORTATIL_e', 'totalquantity')\ngi3 = gi2.withColumnRenamed(\"coalesce(planta_datalake, planta_datalake1)\", \"planta_datalake1\").withColumnRenamed(\"coalesce(fecha_liquidacion1, fecha_liquidacion2)\", \"fecha_liquidacion1\")",
			"metadata": {
				"trusted": true
			},
			"execution_count": 58,
			"outputs": [
				{
					"name": "stdout",
					"text": "\n",
					"output_type": "stream"
				}
			]
		},
		{
			"cell_type": "code",
			"source": "#gi3.filter(gi3.planta_datalake1 =='PlantaPlantaFlogas').show()",
			"metadata": {
				"trusted": true,
				"tags": []
			},
			"execution_count": 19,
			"outputs": []
		},
		{
			"cell_type": "markdown",
			"source": "Aqui ver cuales son las columnas",
			"metadata": {}
		},
		{
			"cell_type": "code",
			"source": "ki = k4.join(gi3, (k4.planta_datalake == gi3.planta_datalake1) & (k4.fecha_liquidacion == gi3.fecha_liquidacion1), \"fullouter\")\nki1 = ki.select(coalesce(ki['planta_datalake'], ki['planta_datalake1']), coalesce(ki['fecha_liquidacion1'],ki['fecha_liquidacion']),'diferencia',\"null\",\"ANDEN\",\"ESTACION\",\"ESTACIONARIO\",\"MAYORISTA_E\",\"MAYORISTA_P\",\"PORTATIL\",\"UTILITARIO\",'ANDEN_e', 'ESTACION_e', 'ESTACIONARIO_e', 'MAYORISTA_E_e', 'MAYORISTA_P_e', 'PORTATIL_e',\"kilos\",\"kilos_donativo\", 'traspaso_entrada', 'traspaso_salida', 'gas_empleado', 'inventario_inicial', 'inventario_final', 'compras', 'existencia_fisica', 'venta_planta','totalquantity', \"cons_propio\")\nki2 = ki1.withColumnRenamed(\"coalesce(planta_datalake, planta_datalake1)\",\"planta_datalake\").withColumnRenamed(\"coalesce(fecha_liquidacion1, fecha_liquidacion)\",\"fecha_liquidacion\")\n#ki3 = fromDF(ki2, glue_ctx, ki4)",
			"metadata": {
				"trusted": true
			},
			"execution_count": 59,
			"outputs": [
				{
					"name": "stdout",
					"text": "\n",
					"output_type": "stream"
				}
			]
		},
		{
			"cell_type": "code",
			"source": "#ki2.filter(ki2.planta_datalake =='PlantaPlantaFlogas').show()",
			"metadata": {
				"trusted": true,
				"tags": []
			},
			"execution_count": 24,
			"outputs": []
		},
		{
			"cell_type": "markdown",
			"source": "#### 12 Generar la serie de tiempo para tener todos los registros",
			"metadata": {}
		},
		{
			"cell_type": "code",
			"source": "df = generate_series(\"2022-08-11\", \"2023-04-17\", 60 * 60 * 24)\ndf1 = df.withColumn(\"current_date\",current_date())\nl1 = df1.select(\"current_date\").collect()\ndf2 = generate_series(\"2017-01-01\", l1[0].current_date, 60 * 60 * 24)\ndf3 = df2.withColumn(\"fecha\", to_date(col(\"value\")))\ndf4 = df3.drop(\"value\")\nliq3 = liq.toDF()",
			"metadata": {
				"trusted": true
			},
			"execution_count": 42,
			"outputs": [
				{
					"name": "stdout",
					"text": "\n",
					"output_type": "stream"
				}
			]
		},
		{
			"cell_type": "code",
			"source": "liq3 = liq3.withColumn('planta_datalake', concat(lit('Planta'), liq3.planta))",
			"metadata": {
				"trusted": true,
				"tags": []
			},
			"execution_count": 43,
			"outputs": [
				{
					"name": "stdout",
					"text": "\n",
					"output_type": "stream"
				}
			]
		},
		{
			"cell_type": "code",
			"source": "a = liq3.select(\"planta_datalake\").distinct().orderBy(\"planta_datalake\").collect()",
			"metadata": {
				"trusted": true
			},
			"execution_count": 44,
			"outputs": [
				{
					"name": "stdout",
					"text": "\n",
					"output_type": "stream"
				}
			]
		},
		{
			"cell_type": "code",
			"source": "liq3.columns",
			"metadata": {
				"trusted": true,
				"tags": []
			},
			"execution_count": 45,
			"outputs": [
				{
					"name": "stdout",
					"text": "['empresa', 'planta', 'fecha_liquidacion', 'id_liquidacion', 'id_unidad', 'eliminado_logico', 'id_planta', 'fecha_extraccion', 'planta_datalake']\n",
					"output_type": "stream"
				}
			]
		},
		{
			"cell_type": "code",
			"source": "df5 = df4.withColumn(\"planta_datalake\", lit(a[0].planta_datalake))\nfor i in range(len(a)):\n    df6 = df4.withColumn(\"planta_datalake\", lit(a[i].planta_datalake))\n    df5 = df5.union(df6)\n\ndf7 =  df5.distinct()\ndf8 = df7.withColumnRenamed(\"planta_datalake\",\"planta_datalake1\")",
			"metadata": {
				"trusted": true
			},
			"execution_count": 46,
			"outputs": [
				{
					"name": "stdout",
					"text": "\n",
					"output_type": "stream"
				}
			]
		},
		{
			"cell_type": "markdown",
			"source": "#### 13 Union con todos los dias",
			"metadata": {}
		},
		{
			"cell_type": "code",
			"source": "ki4 = ki2.join(df8, (ki2.fecha_liquidacion == df8.fecha) & (ki2.planta_datalake == df8.planta_datalake1), \"fullouter\")\nki5 = ki4.select(coalesce(ki4['planta_datalake'], ki4['planta_datalake1']), coalesce(ki4['fecha'], ki4['fecha_liquidacion']), 'diferencia','null', 'ANDEN', 'ESTACION', 'ESTACIONARIO', 'MAYORISTA_E', 'MAYORISTA_P', 'PORTATIL', 'UTILITARIO', 'kilos', 'kilos_donativo', 'traspaso_entrada', 'traspaso_salida', 'gas_empleado', 'inventario_inicial', 'inventario_final', 'compras', 'existencia_fisica','venta_planta', 'totalquantity','ANDEN_e', 'ESTACION_e', 'ESTACIONARIO_e', 'MAYORISTA_E_e', 'MAYORISTA_P_e', 'PORTATIL_e', 'cons_propio')\nki6 = ki5.withColumnRenamed(\"coalesce(planta_datalake, planta_datalake1)\", \"planta_datalake\").withColumnRenamed(\"coalesce(fecha, fecha_liquidacion)\", \"fecha_liquidacion\")\n\n#vt",
			"metadata": {
				"trusted": true
			},
			"execution_count": 66,
			"outputs": [
				{
					"name": "stdout",
					"text": "\n",
					"output_type": "stream"
				}
			]
		},
		{
			"cell_type": "code",
			"source": "cmga6 = cmga6.withColumnRenamed('planta_datalake', 'planta_datalake1')",
			"metadata": {
				"trusted": true
			},
			"execution_count": 67,
			"outputs": [
				{
					"name": "stdout",
					"text": "\n",
					"output_type": "stream"
				}
			]
		},
		{
			"cell_type": "code",
			"source": "cmga6 = cmga6.filter(cmga6.fecha_movimiento_day >='2022-01-01')",
			"metadata": {
				"trusted": true
			},
			"execution_count": 68,
			"outputs": [
				{
					"name": "stdout",
					"text": "\n",
					"output_type": "stream"
				}
			]
		},
		{
			"cell_type": "code",
			"source": "#cmga6.filter(cmga6.planta_datalake1 == 'PlantaPlantaFlogas').show()",
			"metadata": {
				"trusted": true,
				"tags": []
			},
			"execution_count": 28,
			"outputs": []
		},
		{
			"cell_type": "markdown",
			"source": "### 12.1 Join con el vale",
			"metadata": {}
		},
		{
			"cell_type": "code",
			"source": "ki7 = ki6.join(cmga6, ((ki6.planta_datalake == cmga6.planta_datalake1) & (ki6.fecha_liquidacion == cmga6.fecha_movimiento_day)), 'outer')",
			"metadata": {
				"trusted": true
			},
			"execution_count": 69,
			"outputs": [
				{
					"name": "stdout",
					"text": "\n",
					"output_type": "stream"
				}
			]
		},
		{
			"cell_type": "code",
			"source": "#ki7.filter(ki7.planta_datalake == 'PlantaPlantaFlogas').select('planta_datalake', 'planta_datalake1').show()",
			"metadata": {
				"trusted": true,
				"tags": []
			},
			"execution_count": 29,
			"outputs": []
		},
		{
			"cell_type": "code",
			"source": "ki8 = ki7.select(coalesce(ki7['planta_datalake'], ki7['planta_datalake1']), coalesce(ki7['fecha_movimiento_day'],ki7['fecha_liquidacion']),'diferencia','null', 'ANDEN', 'ESTACION', 'ESTACIONARIO', 'MAYORISTA_E', 'MAYORISTA_P', 'PORTATIL', 'UTILITARIO', 'kilos', 'kilos_donativo', 'traspaso_entrada', 'traspaso_salida', 'gas_empleado', 'inventario_inicial', 'inventario_final', 'compras', 'existencia_fisica', 'venta_planta','ANDEN_e', 'ESTACION_e', 'ESTACIONARIO_e', 'MAYORISTA_E_e', 'MAYORISTA_P_e', 'PORTATIL_e', 'totalquantity', 'cons_propio',  'vale')\nki9 = ki8.withColumnRenamed('coalesce(planta_datalake, planta_datalake1)', 'planta_datalake').withColumnRenamed('coalesce(fecha_movimiento_day, fecha_liquidacion)', 'fecha_liquidacion')\nk7 = ki9\n#.fillna(0)\nki8 =  k7.withColumn('planta_datalake2', when(k7.planta_datalake == 'PlantaPlantaFlogas', 'PlantaFlogas').otherwise(k7.planta_datalake)).drop('planta_datalake').withColumnRenamed('planta_datalake2', 'planta_datalake')",
			"metadata": {
				"trusted": true
			},
			"execution_count": 70,
			"outputs": [
				{
					"name": "stdout",
					"text": "\n",
					"output_type": "stream"
				}
			]
		},
		{
			"cell_type": "code",
			"source": "ki8.columns",
			"metadata": {
				"trusted": true,
				"tags": []
			},
			"execution_count": 71,
			"outputs": [
				{
					"name": "stdout",
					"text": "['fecha_liquidacion', 'diferencia', 'null', 'ANDEN', 'ESTACION', 'ESTACIONARIO', 'MAYORISTA_E', 'MAYORISTA_P', 'PORTATIL', 'UTILITARIO', 'kilos', 'kilos_donativo', 'traspaso_entrada', 'traspaso_salida', 'gas_empleado', 'inventario_inicial', 'inventario_final', 'compras', 'existencia_fisica', 'venta_planta', 'ANDEN_e', 'ESTACION_e', 'ESTACIONARIO_e', 'MAYORISTA_E_e', 'MAYORISTA_P_e', 'PORTATIL_e', 'totalquantity', 'cons_propio', 'vale', 'planta_datalake']\n",
					"output_type": "stream"
				}
			]
		},
		{
			"cell_type": "code",
			"source": "#ki8.filter(ki8['planta_datalake'] == 'PlantaFlogas').show()",
			"metadata": {
				"trusted": true,
				"tags": []
			},
			"execution_count": 27,
			"outputs": []
		},
		{
			"cell_type": "code",
			"source": "ki7.columns",
			"metadata": {
				"trusted": true,
				"tags": []
			},
			"execution_count": 53,
			"outputs": [
				{
					"name": "stdout",
					"text": "['planta_datalake', 'fecha_liquidacion', 'null', 'ANDEN', 'ESTACION', 'ESTACIONARIO', 'MAYORISTA_E', 'MAYORISTA_P', 'PORTATIL', 'UTILITARIO', 'kilos', 'kilos_donativo', 'traspaso_entrada', 'traspaso_salida', 'gas_empleado', 'inventario_inicial', 'inventario_final', 'compras', 'existencia_fisica', 'venta_planta', 'totalquantity', 'ANDEN_e', 'ESTACION_e', 'ESTACIONARIO_e', 'MAYORISTA_E_e', 'MAYORISTA_P_e', 'PORTATIL_e', 'cons_propio', 'planta_datalake1', 'fecha_movimiento_day', 'vale']\n",
					"output_type": "stream"
				}
			]
		},
		{
			"cell_type": "markdown",
			"source": "### Agregar zona, y entidad",
			"metadata": {}
		},
		{
			"cell_type": "code",
			"source": "dire2 = dire1.withColumnRenamed('planta_datalake','planta_datalake1')\nk8 = ki8.join(dire2, (ki8.planta_datalake == dire2.planta_datalake1), 'outer').drop('planta_datalake1')",
			"metadata": {
				"trusted": true
			},
			"execution_count": 72,
			"outputs": [
				{
					"name": "stdout",
					"text": "\n",
					"output_type": "stream"
				}
			]
		},
		{
			"cell_type": "code",
			"source": "#k8.filter(k8['planta_datalake'] == 'PlantaFlogas').show()",
			"metadata": {
				"trusted": true,
				"tags": []
			},
			"execution_count": 28,
			"outputs": []
		},
		{
			"cell_type": "code",
			"source": "k8.repartition('planta_datalake').write.mode(\"overwrite\").format(\"parquet\").save(\"s3://globalgas-datalake/cleaning_stepts/operaciones3/\")",
			"metadata": {
				"trusted": true
			},
			"execution_count": 73,
			"outputs": [
				{
					"name": "stdout",
					"text": "\n",
					"output_type": "stream"
				}
			]
		}
	]
}